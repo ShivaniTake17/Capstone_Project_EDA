{
  "nbformat": 4,
  "nbformat_minor": 0,
  "metadata": {
    "colab": {
      "provenance": [],
      "authorship_tag": "ABX9TyMtVR18M3Sr02czgAf9Qm9W",
      "include_colab_link": true
    },
    "kernelspec": {
      "name": "python3",
      "display_name": "Python 3"
    },
    "language_info": {
      "name": "python"
    }
  },
  "cells": [
    {
      "cell_type": "markdown",
      "metadata": {
        "id": "view-in-github",
        "colab_type": "text"
      },
      "source": [
        "<a href=\"https://colab.research.google.com/github/ShivaniTake17/Capstone_Project_EDA/blob/main/EDA_Notebook_1.ipynb\" target=\"_parent\"><img src=\"https://colab.research.google.com/assets/colab-badge.svg\" alt=\"Open In Colab\"/></a>"
      ]
    },
    {
      "cell_type": "markdown",
      "source": [
        "###**Project Name - Global Terrorism Analysis**\n",
        "\n",
        "####**Project Type** - EDA\n",
        "####**Contribution** - Individual"
      ],
      "metadata": {
        "id": "tMRgPMF_0CDK"
      }
    },
    {
      "cell_type": "markdown",
      "source": [
        "# **Project** **Summary**"
      ],
      "metadata": {
        "id": "JzSp1_Vc0KgH"
      }
    },
    {
      "cell_type": "markdown",
      "source": [
        "In this EDA project, we were provided with the Global Terrorism Database (GTD) which is a database including information on terrorist events around the world from 1970 through 2017. Unlike many other event databases, the GTD includes systematic data on domestic as well as international terrorist incidents that have occurred during this time period and now includes more than 181,000 cases.\n",
        "\n",
        "In this project we are doing the exploratory data analysis on the global terrorisam database to find out various insights of terrorism activity and their effect over region,country and city. Also we did some visualizations for easy understandings of the analysis.\n",
        "\n",
        "After analyzing the cleaned data, we divided the project into various types of analysis. The first is the analysis based on Trend of Terrorrism Per Year the second is the analysis based on Most affected areas of Terrorism. Third analysis based on Terrorist Organization and the last analysis is based on country.\n",
        "\n",
        "In the EDA we have conclude that after 2011 there is a large growth recorded in terrorist activity and 2014 appears to be a witness of huge terrorist attack."
      ],
      "metadata": {
        "id": "W84314rm0K21"
      }
    },
    {
      "cell_type": "markdown",
      "source": [
        "# GitHub link -"
      ],
      "metadata": {
        "id": "Yu5E3lRF0fP4"
      }
    },
    {
      "cell_type": "markdown",
      "source": [],
      "metadata": {
        "id": "1iHKkOhx0fbl"
      }
    },
    {
      "cell_type": "markdown",
      "source": [
        "# Problem Statement"
      ],
      "metadata": {
        "id": "fdMR22na0qBn"
      }
    },
    {
      "cell_type": "markdown",
      "source": [
        "The Global Terrorism Database (GTD) is an open-source database including information on terrorist attacks around the world from 1970 through 2017. The GTD includes systematic data on domestic as well as international terrorist incidents that have occurred during this time period and now includes more than 180,000 attacks. The database is maintained by researchers at the National Consortium for the Study of Terrorism and Responses to Terrorism (START), headquartered at the University of Maryland.\n",
        "\n",
        "Explore and analyze the data to discover key findings pertaining to terrorist activities"
      ],
      "metadata": {
        "id": "4p8j4loj1OWQ"
      }
    },
    {
      "cell_type": "markdown",
      "source": [
        "# Objective -"
      ],
      "metadata": {
        "id": "0GvXPKDw1V6y"
      }
    },
    {
      "cell_type": "markdown",
      "source": [
        "1.Studies in Conflict and Terrorism aims to cast new light on the origins and implications of conflict in the 21st Century and to illuminate new approaches and solutions to countering the growth and escalation of contemporary sub-state violence.\n",
        "\n",
        "2.The main objective of the project is to find out the effect of terrorism in the world and spread awareness to reduce the violence."
      ],
      "metadata": {
        "id": "nmB3m4ez1WBX"
      }
    },
    {
      "cell_type": "markdown",
      "source": [
        "##**Let's Begin !**\n"
      ],
      "metadata": {
        "id": "K5tDyHBI1WE0"
      }
    },
    {
      "cell_type": "code",
      "source": [
        "# importing the libraries\n",
        "import numpy as np\n",
        "import pandas as pd\n",
        "import seaborn as sns\n",
        "import matplotlib.pyplot as plt\n",
        "%matplotlib inline"
      ],
      "metadata": {
        "id": "Cfi8a4qwz2Iz"
      },
      "execution_count": 2,
      "outputs": []
    },
    {
      "cell_type": "code",
      "source": [],
      "metadata": {
        "id": "UKS8L7mmz2Lg"
      },
      "execution_count": null,
      "outputs": []
    },
    {
      "cell_type": "code",
      "source": [],
      "metadata": {
        "id": "JyY_LxAkz2OI"
      },
      "execution_count": null,
      "outputs": []
    },
    {
      "cell_type": "code",
      "source": [],
      "metadata": {
        "id": "X8vrbf8Sz2Qu"
      },
      "execution_count": null,
      "outputs": []
    },
    {
      "cell_type": "code",
      "source": [],
      "metadata": {
        "id": "CHIXotAZz2Tk"
      },
      "execution_count": null,
      "outputs": []
    },
    {
      "cell_type": "code",
      "source": [],
      "metadata": {
        "id": "ZqYROs9Kz2WN"
      },
      "execution_count": null,
      "outputs": []
    },
    {
      "cell_type": "code",
      "source": [],
      "metadata": {
        "id": "hkZiVWEdz2ZF"
      },
      "execution_count": null,
      "outputs": []
    },
    {
      "cell_type": "code",
      "source": [],
      "metadata": {
        "id": "vCo9AM0iz2bz"
      },
      "execution_count": null,
      "outputs": []
    },
    {
      "cell_type": "code",
      "source": [],
      "metadata": {
        "id": "2mpQy6q9z2fX"
      },
      "execution_count": null,
      "outputs": []
    }
  ]
}